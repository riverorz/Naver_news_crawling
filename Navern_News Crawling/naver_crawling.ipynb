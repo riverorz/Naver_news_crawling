{
 "cells": [
  {
   "cell_type": "code",
   "execution_count": 4,
   "metadata": {},
   "outputs": [],
   "source": [
    "import requests\n",
    "from bs4 import BeautifulSoup\n",
    "import pandas as pd\n",
    "from datetime import datetime\n",
    "import math\n",
    "from datetime import datetime,timedelta"
   ]
  },
  {
   "cell_type": "code",
   "execution_count": 5,
   "metadata": {},
   "outputs": [],
   "source": [
    "#당일 총 페이지 수\n",
    "def calculator(url):\n",
    "\n",
    "    req = requests.get(url)\n",
    "    cont = req.content\n",
    "    soup = BeautifulSoup(cont, 'html.parser')\n",
    "    number = soup.select('div.title_desc.all_my')[0].text[6:-1].strip().replace(',',\"\")\n",
    "    maxpage = math.ceil(int(number)/10)\n",
    "    maxpage_repeat = (int(maxpage)-1)*10 +1\n",
    "    return maxpage_repeat"
   ]
  },
  {
   "cell_type": "code",
   "execution_count": 6,
   "metadata": {},
   "outputs": [],
   "source": [
    "#네이버 기사 추출 함수\n",
    "def get_navernews(n_url):\n",
    "    news_content = []\n",
    "\n",
    "    get_req = requests.get(n_url)\n",
    "    get_soup = BeautifulSoup(get_req.content, 'html.parser')\n",
    "\n",
    "    title = get_soup.select('h3#articleTitle')[0].text  #대괄호는  h3#articleTitle 인 것중 첫번째 그룹만 가져오겠다.\n",
    "    news_content.append(title)\n",
    "\n",
    "    pdate = get_soup.select('.t11')[0].get_text()[:11]\n",
    "    news_content.append(pdate)\n",
    "\n",
    "    _text = get_soup.select('#articleBodyContents')[0].get_text().replace('\\n', \" \")\n",
    "    get_text = _text.replace(\"// flash 오류를 우회하기 위한 함수 추가 function _flash_removeCallback() {}\", \"\")\n",
    "    news_content.append(get_text.strip())\n",
    "  \n",
    "    news_content.append(n_url)\n",
    "    \n",
    "    newspaper = get_soup.select('#footer address')[0].a.get_text()\n",
    "    news_content.append(newspaper)\n",
    "\n",
    "    return news_content"
   ]
  },
  {
   "cell_type": "code",
   "execution_count": 7,
   "metadata": {
    "collapsed": true
   },
   "outputs": [
    {
     "name": "stdout",
     "output_type": "stream",
     "text": [
      "검색어를 입력하세요 : 물류\n",
      "시작날짜 입력(ex:20200617) : 20200627\n",
      "마지막 날짜입력(ex:20200617) : 20200627\n",
      "현재 날짜 2020-06-27\n",
      "현재페이지 1 사이트 https://search.naver.com/search.naver?&where=news&query=물류&sm=tab_pge&sort=1&photo=0&field=0&reporter_article=&pd=3&ds=20200627&de=20200627&docid=&nso=so:dd,p:from20200627to20200627,a:all&mynews=0&start=1&refresh_start=0\n",
      "현재페이지 11 사이트 https://search.naver.com/search.naver?&where=news&query=물류&sm=tab_pge&sort=1&photo=0&field=0&reporter_article=&pd=3&ds=20200627&de=20200627&docid=&nso=so:dd,p:from20200627to20200627,a:all&mynews=0&start=11&refresh_start=0\n",
      "현재페이지 21 사이트 https://search.naver.com/search.naver?&where=news&query=물류&sm=tab_pge&sort=1&photo=0&field=0&reporter_article=&pd=3&ds=20200627&de=20200627&docid=&nso=so:dd,p:from20200627to20200627,a:all&mynews=0&start=21&refresh_start=0\n",
      "현재페이지 31 사이트 https://search.naver.com/search.naver?&where=news&query=물류&sm=tab_pge&sort=1&photo=0&field=0&reporter_article=&pd=3&ds=20200627&de=20200627&docid=&nso=so:dd,p:from20200627to20200627,a:all&mynews=0&start=31&refresh_start=0\n",
      "현재페이지 41 사이트 https://search.naver.com/search.naver?&where=news&query=물류&sm=tab_pge&sort=1&photo=0&field=0&reporter_article=&pd=3&ds=20200627&de=20200627&docid=&nso=so:dd,p:from20200627to20200627,a:all&mynews=0&start=41&refresh_start=0\n",
      "'NoneType' object has no attribute 'get_text'\n",
      "현재페이지 51 사이트 https://search.naver.com/search.naver?&where=news&query=물류&sm=tab_pge&sort=1&photo=0&field=0&reporter_article=&pd=3&ds=20200627&de=20200627&docid=&nso=so:dd,p:from20200627to20200627,a:all&mynews=0&start=51&refresh_start=0\n",
      "현재페이지 61 사이트 https://search.naver.com/search.naver?&where=news&query=물류&sm=tab_pge&sort=1&photo=0&field=0&reporter_article=&pd=3&ds=20200627&de=20200627&docid=&nso=so:dd,p:from20200627to20200627,a:all&mynews=0&start=61&refresh_start=0\n",
      "현재페이지 71 사이트 https://search.naver.com/search.naver?&where=news&query=물류&sm=tab_pge&sort=1&photo=0&field=0&reporter_article=&pd=3&ds=20200627&de=20200627&docid=&nso=so:dd,p:from20200627to20200627,a:all&mynews=0&start=71&refresh_start=0\n",
      "현재페이지 81 사이트 https://search.naver.com/search.naver?&where=news&query=물류&sm=tab_pge&sort=1&photo=0&field=0&reporter_article=&pd=3&ds=20200627&de=20200627&docid=&nso=so:dd,p:from20200627to20200627,a:all&mynews=0&start=81&refresh_start=0\n",
      "현재페이지 91 사이트 https://search.naver.com/search.naver?&where=news&query=물류&sm=tab_pge&sort=1&photo=0&field=0&reporter_article=&pd=3&ds=20200627&de=20200627&docid=&nso=so:dd,p:from20200627to20200627,a:all&mynews=0&start=91&refresh_start=0\n",
      "현재페이지 101 사이트 https://search.naver.com/search.naver?&where=news&query=물류&sm=tab_pge&sort=1&photo=0&field=0&reporter_article=&pd=3&ds=20200627&de=20200627&docid=&nso=so:dd,p:from20200627to20200627,a:all&mynews=0&start=101&refresh_start=0\n",
      "현재페이지 111 사이트 https://search.naver.com/search.naver?&where=news&query=물류&sm=tab_pge&sort=1&photo=0&field=0&reporter_article=&pd=3&ds=20200627&de=20200627&docid=&nso=so:dd,p:from20200627to20200627,a:all&mynews=0&start=111&refresh_start=0\n",
      "현재페이지 121 사이트 https://search.naver.com/search.naver?&where=news&query=물류&sm=tab_pge&sort=1&photo=0&field=0&reporter_article=&pd=3&ds=20200627&de=20200627&docid=&nso=so:dd,p:from20200627to20200627,a:all&mynews=0&start=121&refresh_start=0\n",
      "현재페이지 131 사이트 https://search.naver.com/search.naver?&where=news&query=물류&sm=tab_pge&sort=1&photo=0&field=0&reporter_article=&pd=3&ds=20200627&de=20200627&docid=&nso=so:dd,p:from20200627to20200627,a:all&mynews=0&start=131&refresh_start=0\n",
      "현재페이지 141 사이트 https://search.naver.com/search.naver?&where=news&query=물류&sm=tab_pge&sort=1&photo=0&field=0&reporter_article=&pd=3&ds=20200627&de=20200627&docid=&nso=so:dd,p:from20200627to20200627,a:all&mynews=0&start=141&refresh_start=0\n",
      "현재페이지 151 사이트 https://search.naver.com/search.naver?&where=news&query=물류&sm=tab_pge&sort=1&photo=0&field=0&reporter_article=&pd=3&ds=20200627&de=20200627&docid=&nso=so:dd,p:from20200627to20200627,a:all&mynews=0&start=151&refresh_start=0\n",
      "현재페이지 161 사이트 https://search.naver.com/search.naver?&where=news&query=물류&sm=tab_pge&sort=1&photo=0&field=0&reporter_article=&pd=3&ds=20200627&de=20200627&docid=&nso=so:dd,p:from20200627to20200627,a:all&mynews=0&start=161&refresh_start=0\n",
      "현재페이지 171 사이트 https://search.naver.com/search.naver?&where=news&query=물류&sm=tab_pge&sort=1&photo=0&field=0&reporter_article=&pd=3&ds=20200627&de=20200627&docid=&nso=so:dd,p:from20200627to20200627,a:all&mynews=0&start=171&refresh_start=0\n",
      "현재페이지 181 사이트 https://search.naver.com/search.naver?&where=news&query=물류&sm=tab_pge&sort=1&photo=0&field=0&reporter_article=&pd=3&ds=20200627&de=20200627&docid=&nso=so:dd,p:from20200627to20200627,a:all&mynews=0&start=181&refresh_start=0\n",
      "현재페이지 191 사이트 https://search.naver.com/search.naver?&where=news&query=물류&sm=tab_pge&sort=1&photo=0&field=0&reporter_article=&pd=3&ds=20200627&de=20200627&docid=&nso=so:dd,p:from20200627to20200627,a:all&mynews=0&start=191&refresh_start=0\n",
      "현재페이지 201 사이트 https://search.naver.com/search.naver?&where=news&query=물류&sm=tab_pge&sort=1&photo=0&field=0&reporter_article=&pd=3&ds=20200627&de=20200627&docid=&nso=so:dd,p:from20200627to20200627,a:all&mynews=0&start=201&refresh_start=0\n",
      "현재페이지 211 사이트 https://search.naver.com/search.naver?&where=news&query=물류&sm=tab_pge&sort=1&photo=0&field=0&reporter_article=&pd=3&ds=20200627&de=20200627&docid=&nso=so:dd,p:from20200627to20200627,a:all&mynews=0&start=211&refresh_start=0\n",
      "현재페이지 221 사이트 https://search.naver.com/search.naver?&where=news&query=물류&sm=tab_pge&sort=1&photo=0&field=0&reporter_article=&pd=3&ds=20200627&de=20200627&docid=&nso=so:dd,p:from20200627to20200627,a:all&mynews=0&start=221&refresh_start=0\n",
      "현재페이지 231 사이트 https://search.naver.com/search.naver?&where=news&query=물류&sm=tab_pge&sort=1&photo=0&field=0&reporter_article=&pd=3&ds=20200627&de=20200627&docid=&nso=so:dd,p:from20200627to20200627,a:all&mynews=0&start=231&refresh_start=0\n",
      "현재페이지 241 사이트 https://search.naver.com/search.naver?&where=news&query=물류&sm=tab_pge&sort=1&photo=0&field=0&reporter_article=&pd=3&ds=20200627&de=20200627&docid=&nso=so:dd,p:from20200627to20200627,a:all&mynews=0&start=241&refresh_start=0\n",
      "현재페이지 251 사이트 https://search.naver.com/search.naver?&where=news&query=물류&sm=tab_pge&sort=1&photo=0&field=0&reporter_article=&pd=3&ds=20200627&de=20200627&docid=&nso=so:dd,p:from20200627to20200627,a:all&mynews=0&start=251&refresh_start=0\n",
      "현재페이지 261 사이트 https://search.naver.com/search.naver?&where=news&query=물류&sm=tab_pge&sort=1&photo=0&field=0&reporter_article=&pd=3&ds=20200627&de=20200627&docid=&nso=so:dd,p:from20200627to20200627,a:all&mynews=0&start=261&refresh_start=0\n",
      "현재페이지 271 사이트 https://search.naver.com/search.naver?&where=news&query=물류&sm=tab_pge&sort=1&photo=0&field=0&reporter_article=&pd=3&ds=20200627&de=20200627&docid=&nso=so:dd,p:from20200627to20200627,a:all&mynews=0&start=271&refresh_start=0\n",
      "현재페이지 281 사이트 https://search.naver.com/search.naver?&where=news&query=물류&sm=tab_pge&sort=1&photo=0&field=0&reporter_article=&pd=3&ds=20200627&de=20200627&docid=&nso=so:dd,p:from20200627to20200627,a:all&mynews=0&start=281&refresh_start=0\n",
      "현재페이지 291 사이트 https://search.naver.com/search.naver?&where=news&query=물류&sm=tab_pge&sort=1&photo=0&field=0&reporter_article=&pd=3&ds=20200627&de=20200627&docid=&nso=so:dd,p:from20200627to20200627,a:all&mynews=0&start=291&refresh_start=0\n",
      "현재페이지 301 사이트 https://search.naver.com/search.naver?&where=news&query=물류&sm=tab_pge&sort=1&photo=0&field=0&reporter_article=&pd=3&ds=20200627&de=20200627&docid=&nso=so:dd,p:from20200627to20200627,a:all&mynews=0&start=301&refresh_start=0\n"
     ]
    }
   ],
   "source": [
    "# 날짜 검색 입력\n",
    "query = input(\"검색어를 입력하세요 : \") \n",
    "startday = input(\"시작날짜 입력(ex:20200617) : \")\n",
    "\n",
    "startdatetime = datetime.strptime(startday , '%Y%m%d').date()\n",
    "\n",
    "endday = input(\"마지막 날짜입력(ex:20200617) : \")\n",
    "\n",
    "enddatetime = datetime.strptime(endday , '%Y%m%d').date()\n",
    "\n",
    "page = 1\n",
    "url = 'https://search.naver.com/search.naver?&where=news&query='+query+'&sm=tab_pge&sort=1&photo=0&field=0&reporter_article=&pd=3&ds='+startday+'&de='+startday+'&docid=&nso=so:dd,p:from'+startday+ 'to'+ startday+ ',a:all&mynews=0&start='+str(page)+'&refresh_start=0'\n",
    "maxpage_repeat = calculator(url)\n",
    "news_box =[]\n",
    "\n",
    "# 최종 날짜 까지 반복\n",
    "while startdatetime < enddatetime +timedelta(days=1) :\n",
    "    \n",
    "    print(\"현재 날짜\",startdatetime)\n",
    "    #총페이지 까지 반복\n",
    "    while page < maxpage_repeat +1 :\n",
    "        print(\"현재페이지\",page,\"사이트\",url)\n",
    "        req = requests.get(url)\n",
    "        cont = req.content\n",
    "        soup = BeautifulSoup(cont, 'html.parser')\n",
    "        for urls in soup.select(\"._sp_each_url\"):\n",
    "            try :\n",
    "                if urls[\"href\"].startswith(\"https://news.naver.com\"):\n",
    "                    news_content = get_navernews(urls[\"href\"])\n",
    "                    year = news_content[1]\n",
    "                    newspaper= news_content[4]\n",
    "                    title=news_content[0]\n",
    "                    contents=news_content[2]\n",
    "                    link=news_content[3]\n",
    "                    news_total = [year, newspaper, title, contents, link]\n",
    "                    news_box.append(news_total)\n",
    "            except Exception as e:\n",
    "                print(e)\n",
    "                continue\n",
    "        page += 10\n",
    "        url = 'https://search.naver.com/search.naver?&where=news&query='+query+'&sm=tab_pge&sort=1&photo=0&field=0&reporter_article=&pd=3&ds='+startday+'&de='+startday+'&docid=&nso=so:dd,p:from'+startday+ 'to'+ startday+ ',a:all&mynews=0&start='+str(page)+'&refresh_start=0'\n",
    "\n",
    "    startdatetime = startdatetime +timedelta(days=1)\n",
    "    startday = str(startdatetime).replace('-','')\n",
    "    page = 1\n",
    "    url = 'https://search.naver.com/search.naver?&where=news&query='+query+'&sm=tab_pge&sort=1&photo=0&field=0&reporter_article=&pd=3&ds='+startday+'&de='+startday+'&docid=&nso=so:dd,p:from'+startday+ 'to'+ startday+ ',a:all&mynews=0&start='+str(page)+'&refresh_start=0'\n",
    "    maxpage_repeat = calculator(url)\n",
    "    \n"
   ]
  },
  {
   "cell_type": "code",
   "execution_count": 8,
   "metadata": {},
   "outputs": [],
   "source": [
    "now = datetime.now() \n",
    "data = pd.DataFrame(news_box)\n",
    "data.columns = ['years','newspaper','title','contents','link']\n",
    "xlsx_outputFileName = \"./ 검색어 {}, 기간 {} - {} 실행시간 {}-{}-{} {}시 {}분.xlsx\".format(query, startday, endday,now.year, now.month, now.day, now.hour, now.minute )\n",
    "data.to_excel(xlsx_outputFileName, encoding='utf-8')"
   ]
  }
 ],
 "metadata": {
  "kernelspec": {
   "display_name": "Python 3",
   "language": "python",
   "name": "python3"
  },
  "language_info": {
   "codemirror_mode": {
    "name": "ipython",
    "version": 3
   },
   "file_extension": ".py",
   "mimetype": "text/x-python",
   "name": "python",
   "nbconvert_exporter": "python",
   "pygments_lexer": "ipython3",
   "version": "3.7.7"
  }
 },
 "nbformat": 4,
 "nbformat_minor": 4
}
